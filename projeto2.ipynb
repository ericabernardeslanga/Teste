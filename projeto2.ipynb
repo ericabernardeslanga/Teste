{
  "nbformat": 4,
  "nbformat_minor": 0,
  "metadata": {
    "colab": {
      "provenance": [],
      "toc_visible": true,
      "include_colab_link": true
    },
    "kernelspec": {
      "name": "python3",
      "display_name": "Python 3"
    },
    "language_info": {
      "name": "python"
    }
  },
  "cells": [
    {
      "cell_type": "markdown",
      "metadata": {
        "id": "view-in-github",
        "colab_type": "text"
      },
      "source": [
        "<a href=\"https://colab.research.google.com/github/ericabernardeslanga/Teste/blob/main/projeto2.ipynb\" target=\"_parent\"><img src=\"https://colab.research.google.com/assets/colab-badge.svg\" alt=\"Open In Colab\"/></a>"
      ]
    },
    {
      "cell_type": "markdown",
      "source": [
        "# PROJETO 2: BANCO DE DADOS"
      ],
      "metadata": {
        "id": "QWUb3hiqncXV"
      }
    },
    {
      "cell_type": "markdown",
      "source": [
        "### Tabela de Comando SQL"
      ],
      "metadata": {
        "id": "F8X_z_Y9NczG"
      }
    },
    {
      "cell_type": "markdown",
      "source": [
        "| **Comando SQL**        | **Descrição**                                                                 | **Exemplo de Uso**                                                                                     |\n",
        "|------------------------|-------------------------------------------------------------------------------|---------------------------------------------------------------------------------------------------------|\n",
        "| `CREATE TABLE`          | Cria uma nova tabela no banco de dados.                                       | ```CREATE TABLE Alunos (id INTEGER PRIMARY KEY, nome TEXT);```                                           |\n",
        "| `INSERT INTO`           | Insere novos registros em uma tabela.                                         | ```INSERT INTO Alunos (id, nome) VALUES (1, 'João');```                                                  |\n",
        "| `SELECT`                | Seleciona dados de uma ou mais tabelas.                                       | ```SELECT * FROM Alunos;```                                                                             |\n",
        "| `JOIN`                  | Junta dados de duas ou mais tabelas com base em uma condição.                 | ```SELECT Alunos.nome, Cursos.nome FROM Alunos JOIN Cursos ON Alunos.id_curso = Cursos.id;```             |\n",
        "| `WHERE`                 | Filtra os resultados de uma consulta com base em uma condição.                | ```SELECT * FROM Alunos WHERE idade > 18;```                                                             |\n",
        "| `GROUP BY`              | Agrupa resultados de uma consulta em categorias.                             | ```SELECT curso, COUNT(*) FROM Alunos GROUP BY curso;```                                                 |\n",
        "| `HAVING`                | Filtra grupos após o uso de `GROUP BY`.                                       | ```SELECT curso, COUNT(*) FROM Alunos GROUP BY curso HAVING COUNT(*) > 5;```                             |\n",
        "| `ORDER BY`              | Ordena os resultados de uma consulta.                                         | ```SELECT * FROM Alunos ORDER BY nome ASC;```                                                            |\n",
        "| `UPDATE`                | Atualiza registros existentes em uma tabela.                                  | ```UPDATE Alunos SET idade = 20 WHERE id = 1;```                                                         |\n",
        "| `DELETE`                | Remove registros de uma tabela.                                               | ```DELETE FROM Alunos WHERE id = 1;```                                                                   |\n",
        "| `ALTER TABLE`           | Modifica a estrutura de uma tabela.                                           | ```ALTER TABLE Alunos ADD COLUMN email TEXT;```                                                          |\n",
        "| `DROP TABLE`            | Remove uma tabela do banco de dados.                                          | ```DROP TABLE Alunos;```                                                                                 |\n",
        "| `INNER JOIN`            | Retorna apenas os registros que possuem correspondências em ambas as tabelas. | ```SELECT Alunos.nome, Cursos.nome FROM Alunos INNER JOIN Cursos ON Alunos.id_curso = Cursos.id;```       |\n",
        "| `LEFT JOIN`             | Retorna todos os registros da tabela à esquerda e os correspondentes à direita.| ```SELECT Alunos.nome, Cursos.nome FROM Alunos LEFT JOIN Cursos ON Alunos.id_curso = Cursos.id;```        |\n",
        "| `RIGHT JOIN`            | Retorna todos os registros da tabela à direita e os correspondentes à esquerda.| ```SELECT Alunos.nome, Cursos.nome FROM Alunos RIGHT JOIN Cursos ON Alunos.id_curso = Cursos.id;```       |\n",
        "| `FULL OUTER JOIN`       | Retorna todos os registros quando há correspondência em uma das tabelas.      | ```SELECT Alunos.nome, Cursos.nome FROM Alunos FULL OUTER JOIN Cursos ON Alunos.id_curso = Cursos.id;```  |\n",
        "| `DISTINCT`              | Retorna valores distintos (não duplicados) de uma coluna.                     | ```SELECT DISTINCT curso FROM Alunos;```                                                                 |\n",
        "| `COUNT`                 | Conta o número de registros que correspondem a uma consulta.                  | ```SELECT COUNT(*) FROM Alunos;```                                                                       |\n",
        "| `AVG`                   | Calcula a média de uma coluna numérica.                                       | ```SELECT AVG(idade) FROM Alunos;```                                                                     |\n",
        "| `SUM`                   | Calcula a soma de uma coluna numérica.                                        | ```SELECT SUM(salario) FROM Funcionarios;```                                                             |\n",
        "| `MAX`                   | Retorna o valor máximo de uma coluna.                                         | ```SELECT MAX(salario) FROM Funcionarios;```                                                             |\n",
        "| `MIN`                   | Retorna o valor mínimo de uma coluna.                                         | ```SELECT MIN(salario) FROM Funcionarios;```                                                             |\n",
        "| `CREATE INDEX`          | Cria um índice para acelerar consultas.                                       | ```CREATE INDEX idx_nome ON Alunos (nome);```                                                            |\n",
        "| `DROP INDEX`            | Remove um índice.                                                             | ```DROP INDEX idx_nome;```                                                                               |\n"
      ],
      "metadata": {
        "id": "-FrH6n6mV0W0"
      }
    },
    {
      "cell_type": "markdown",
      "source": [
        "### Cenário: Análise da Jornada e Experiência do Cliente"
      ],
      "metadata": {
        "id": "xRpZC9kKn7Ow"
      }
    },
    {
      "cell_type": "markdown",
      "source": [
        "#### Descrição do Cenário:\n"
      ],
      "metadata": {
        "id": "Yu4ACahjoNBA"
      }
    },
    {
      "cell_type": "markdown",
      "source": [
        "Uma rede de hotéis está interessada em entender melhor a jornada dos seus clientes no site, bem como a experiência de reseva e estadia. A empresa tem informações sobre:\n",
        "\n",
        "  - **Navegação:** O cliente acessa o site e visualiza diferentes páginas.\n",
        "\n",
        "  - **Reservas:** O cliente faz uma reserva de quarto em um hotel.\n",
        "\n",
        "  - **Avaliações:** O cliente avalia sua experiência após a estadia.\n",
        "\n",
        "A rede quer analisar como diferentes perfis de clientes avaliam a experiência de estadia, comparando esses resultados com todo ofunil até chegar a estadia, desde a navegação até a avaliação do hotel."
      ],
      "metadata": {
        "id": "Sy7BpmGRpn5t"
      }
    },
    {
      "cell_type": "markdown",
      "source": [
        "#### Objetivo:"
      ],
      "metadata": {
        "id": "lHy5_0jYpssP"
      }
    },
    {
      "cell_type": "markdown",
      "source": [
        "  - Entender a jornada do cliente desde a navegação no site até a reserva e sua experiência final.\n",
        "\n",
        "  - Perguntas para análise:\n",
        "  1. Qual o tempo médio que os clientes gastam no site antes de fazer uma reserva?\n",
        "\n",
        "  2. Qual o percentual de clientes que realizam reservas após a navegação?\n",
        "\n",
        "3. Existe alguma correlação entre o tempo gasto no site e a avaliação dada?"
      ],
      "metadata": {
        "id": "9LbYbgeXptbj"
      }
    },
    {
      "cell_type": "markdown",
      "source": [
        "### O que você precisa fazer no Projeto 2"
      ],
      "metadata": {
        "id": "SBcUBjW1rw_g"
      }
    },
    {
      "cell_type": "markdown",
      "source": [
        " 1. Inserir os dados dos aruvos csv em um banco de dados SQLite.\n",
        "\n",
        "2. Realizar de consultas para responder às perguntas de análise.\n",
        "\n",
        "3. Salvar as consultas como tabela no banco de dados"
      ],
      "metadata": {
        "id": "-QhW1dm7r4u4"
      }
    },
    {
      "cell_type": "markdown",
      "source": [
        "DICA:\n",
        "\n",
        "Para verificar todas as tabelas que existem em um banco de dados SQLite, você pode rodar O comando abaixo.\n",
        "\n",
        "Isso exibirá uma lista com todas as tabelas do banco de dados, permitindo verificar se as tabelas  foram criadas corretamente."
      ],
      "metadata": {
        "id": "ncWgvW0XsbXI"
      }
    },
    {
      "cell_type": "code",
      "source": [
        "import sqlite3 as sql\n",
        "import csv\n"
      ],
      "metadata": {
        "id": "y02t2kKA7zll"
      },
      "execution_count": 77,
      "outputs": []
    },
    {
      "cell_type": "code",
      "source": [
        "from google.colab import files\n",
        "\n",
        "#upload do arquivo CSV\n",
        "uploaded = files.upload()\n"
      ],
      "metadata": {
        "id": "2G6aUeiu75mK",
        "outputId": "ff05d661-3847-4586-fac5-2479f63bd782",
        "colab": {
          "base_uri": "https://localhost:8080/",
          "height": 211
        }
      },
      "execution_count": 78,
      "outputs": [
        {
          "output_type": "display_data",
          "data": {
            "text/plain": [
              "<IPython.core.display.HTML object>"
            ],
            "text/html": [
              "\n",
              "     <input type=\"file\" id=\"files-fdaf3793-618a-468a-b5a7-dc1580d67bcb\" name=\"files[]\" multiple disabled\n",
              "        style=\"border:none\" />\n",
              "     <output id=\"result-fdaf3793-618a-468a-b5a7-dc1580d67bcb\">\n",
              "      Upload widget is only available when the cell has been executed in the\n",
              "      current browser session. Please rerun this cell to enable.\n",
              "      </output>\n",
              "      <script>// Copyright 2017 Google LLC\n",
              "//\n",
              "// Licensed under the Apache License, Version 2.0 (the \"License\");\n",
              "// you may not use this file except in compliance with the License.\n",
              "// You may obtain a copy of the License at\n",
              "//\n",
              "//      http://www.apache.org/licenses/LICENSE-2.0\n",
              "//\n",
              "// Unless required by applicable law or agreed to in writing, software\n",
              "// distributed under the License is distributed on an \"AS IS\" BASIS,\n",
              "// WITHOUT WARRANTIES OR CONDITIONS OF ANY KIND, either express or implied.\n",
              "// See the License for the specific language governing permissions and\n",
              "// limitations under the License.\n",
              "\n",
              "/**\n",
              " * @fileoverview Helpers for google.colab Python module.\n",
              " */\n",
              "(function(scope) {\n",
              "function span(text, styleAttributes = {}) {\n",
              "  const element = document.createElement('span');\n",
              "  element.textContent = text;\n",
              "  for (const key of Object.keys(styleAttributes)) {\n",
              "    element.style[key] = styleAttributes[key];\n",
              "  }\n",
              "  return element;\n",
              "}\n",
              "\n",
              "// Max number of bytes which will be uploaded at a time.\n",
              "const MAX_PAYLOAD_SIZE = 100 * 1024;\n",
              "\n",
              "function _uploadFiles(inputId, outputId) {\n",
              "  const steps = uploadFilesStep(inputId, outputId);\n",
              "  const outputElement = document.getElementById(outputId);\n",
              "  // Cache steps on the outputElement to make it available for the next call\n",
              "  // to uploadFilesContinue from Python.\n",
              "  outputElement.steps = steps;\n",
              "\n",
              "  return _uploadFilesContinue(outputId);\n",
              "}\n",
              "\n",
              "// This is roughly an async generator (not supported in the browser yet),\n",
              "// where there are multiple asynchronous steps and the Python side is going\n",
              "// to poll for completion of each step.\n",
              "// This uses a Promise to block the python side on completion of each step,\n",
              "// then passes the result of the previous step as the input to the next step.\n",
              "function _uploadFilesContinue(outputId) {\n",
              "  const outputElement = document.getElementById(outputId);\n",
              "  const steps = outputElement.steps;\n",
              "\n",
              "  const next = steps.next(outputElement.lastPromiseValue);\n",
              "  return Promise.resolve(next.value.promise).then((value) => {\n",
              "    // Cache the last promise value to make it available to the next\n",
              "    // step of the generator.\n",
              "    outputElement.lastPromiseValue = value;\n",
              "    return next.value.response;\n",
              "  });\n",
              "}\n",
              "\n",
              "/**\n",
              " * Generator function which is called between each async step of the upload\n",
              " * process.\n",
              " * @param {string} inputId Element ID of the input file picker element.\n",
              " * @param {string} outputId Element ID of the output display.\n",
              " * @return {!Iterable<!Object>} Iterable of next steps.\n",
              " */\n",
              "function* uploadFilesStep(inputId, outputId) {\n",
              "  const inputElement = document.getElementById(inputId);\n",
              "  inputElement.disabled = false;\n",
              "\n",
              "  const outputElement = document.getElementById(outputId);\n",
              "  outputElement.innerHTML = '';\n",
              "\n",
              "  const pickedPromise = new Promise((resolve) => {\n",
              "    inputElement.addEventListener('change', (e) => {\n",
              "      resolve(e.target.files);\n",
              "    });\n",
              "  });\n",
              "\n",
              "  const cancel = document.createElement('button');\n",
              "  inputElement.parentElement.appendChild(cancel);\n",
              "  cancel.textContent = 'Cancel upload';\n",
              "  const cancelPromise = new Promise((resolve) => {\n",
              "    cancel.onclick = () => {\n",
              "      resolve(null);\n",
              "    };\n",
              "  });\n",
              "\n",
              "  // Wait for the user to pick the files.\n",
              "  const files = yield {\n",
              "    promise: Promise.race([pickedPromise, cancelPromise]),\n",
              "    response: {\n",
              "      action: 'starting',\n",
              "    }\n",
              "  };\n",
              "\n",
              "  cancel.remove();\n",
              "\n",
              "  // Disable the input element since further picks are not allowed.\n",
              "  inputElement.disabled = true;\n",
              "\n",
              "  if (!files) {\n",
              "    return {\n",
              "      response: {\n",
              "        action: 'complete',\n",
              "      }\n",
              "    };\n",
              "  }\n",
              "\n",
              "  for (const file of files) {\n",
              "    const li = document.createElement('li');\n",
              "    li.append(span(file.name, {fontWeight: 'bold'}));\n",
              "    li.append(span(\n",
              "        `(${file.type || 'n/a'}) - ${file.size} bytes, ` +\n",
              "        `last modified: ${\n",
              "            file.lastModifiedDate ? file.lastModifiedDate.toLocaleDateString() :\n",
              "                                    'n/a'} - `));\n",
              "    const percent = span('0% done');\n",
              "    li.appendChild(percent);\n",
              "\n",
              "    outputElement.appendChild(li);\n",
              "\n",
              "    const fileDataPromise = new Promise((resolve) => {\n",
              "      const reader = new FileReader();\n",
              "      reader.onload = (e) => {\n",
              "        resolve(e.target.result);\n",
              "      };\n",
              "      reader.readAsArrayBuffer(file);\n",
              "    });\n",
              "    // Wait for the data to be ready.\n",
              "    let fileData = yield {\n",
              "      promise: fileDataPromise,\n",
              "      response: {\n",
              "        action: 'continue',\n",
              "      }\n",
              "    };\n",
              "\n",
              "    // Use a chunked sending to avoid message size limits. See b/62115660.\n",
              "    let position = 0;\n",
              "    do {\n",
              "      const length = Math.min(fileData.byteLength - position, MAX_PAYLOAD_SIZE);\n",
              "      const chunk = new Uint8Array(fileData, position, length);\n",
              "      position += length;\n",
              "\n",
              "      const base64 = btoa(String.fromCharCode.apply(null, chunk));\n",
              "      yield {\n",
              "        response: {\n",
              "          action: 'append',\n",
              "          file: file.name,\n",
              "          data: base64,\n",
              "        },\n",
              "      };\n",
              "\n",
              "      let percentDone = fileData.byteLength === 0 ?\n",
              "          100 :\n",
              "          Math.round((position / fileData.byteLength) * 100);\n",
              "      percent.textContent = `${percentDone}% done`;\n",
              "\n",
              "    } while (position < fileData.byteLength);\n",
              "  }\n",
              "\n",
              "  // All done.\n",
              "  yield {\n",
              "    response: {\n",
              "      action: 'complete',\n",
              "    }\n",
              "  };\n",
              "}\n",
              "\n",
              "scope.google = scope.google || {};\n",
              "scope.google.colab = scope.google.colab || {};\n",
              "scope.google.colab._files = {\n",
              "  _uploadFiles,\n",
              "  _uploadFilesContinue,\n",
              "};\n",
              "})(self);\n",
              "</script> "
            ]
          },
          "metadata": {}
        },
        {
          "output_type": "stream",
          "name": "stdout",
          "text": [
            "Saving avaliacoes.csv to avaliacoes (2).csv\n",
            "Saving clientes.csv to clientes (2).csv\n",
            "Saving navegacao.csv to navegacao (2).csv\n",
            "Saving projeto2.ipynb to projeto2 (1).ipynb\n",
            "Saving reservas.csv to reservas (1).csv\n"
          ]
        }
      ]
    },
    {
      "cell_type": "code",
      "source": [
        "conexao = sql.connect('ecomerce.db')\n",
        "cursor = conexao.cursor()"
      ],
      "metadata": {
        "id": "j6HzLi9v8fQi"
      },
      "execution_count": 79,
      "outputs": []
    },
    {
      "cell_type": "code",
      "source": [
        "#criar tabelas clientes , reservas, navegacao\n",
        "#id_cliente nome email idade genero =clientes\n",
        "#id_navegacao id_cliente pagina tempo_gasto data_acesso=navegacao\n",
        "#id_reserva id_cliente data_checkin valor_total=reservas\n",
        "#id_avaliacao id_cliente nota comentario=avaliacoes"
      ],
      "metadata": {
        "id": "qHI3ZN7mAuLh"
      },
      "execution_count": null,
      "outputs": []
    },
    {
      "cell_type": "code",
      "source": [
        "cursor.execute('''\n",
        "CREATE TABLE IF NOT EXISTS clientes(\n",
        "    id_cliente INTEGER PRIMARY KEY,\n",
        "    nome TEXT NOT NULL,\n",
        "    email TEXT NOT NULL,\n",
        "    idade INTEGER,\n",
        "    genero TEXT NOT NULL)\n",
        "''')"
      ],
      "metadata": {
        "colab": {
          "base_uri": "https://localhost:8080/"
        },
        "id": "AX0NPsD6CTak",
        "outputId": "adafee56-c1f0-4a8b-b046-2512e89084f1"
      },
      "execution_count": 80,
      "outputs": [
        {
          "output_type": "execute_result",
          "data": {
            "text/plain": [
              "<sqlite3.Cursor at 0x79ffd8181240>"
            ]
          },
          "metadata": {},
          "execution_count": 80
        }
      ]
    },
    {
      "cell_type": "code",
      "source": [
        "cursor.execute('''\n",
        "CREATE TABLE IF NOT EXISTS navegacao (\n",
        "    id_navegacao INTEGER PRIMARY KEY,\n",
        "    id_cliente INTEGER,\n",
        "    comentario TEXT,\n",
        "    tempo_gasto REAL,\n",
        "    data_acesso TEXT,\n",
        "    pagina INTEGER,\n",
        "    FOREIGN KEY (id_cliente) REFERENCES clientes(id_cliente)\n",
        ")\n",
        "''')\n"
      ],
      "metadata": {
        "id": "BIuem0YdEFRs",
        "outputId": "aed2889e-2096-4aae-b1c2-816d01f31c8f",
        "colab": {
          "base_uri": "https://localhost:8080/"
        }
      },
      "execution_count": 81,
      "outputs": [
        {
          "output_type": "execute_result",
          "data": {
            "text/plain": [
              "<sqlite3.Cursor at 0x79ffd8181240>"
            ]
          },
          "metadata": {},
          "execution_count": 81
        }
      ]
    },
    {
      "cell_type": "code",
      "source": [
        "cursor.execute('''\n",
        "CREATE TABLE IF NOT EXISTS reservas(\n",
        "    id_reserva INTEGER PRIMARY KEY,\n",
        "    id_cliente INTEGER,\n",
        "    data_checkin TEXT NOT NULL,\n",
        "    valor_total REAL,\n",
        "    FOREIGN KEY (id_cliente) REFERENCES clientes(id_cliente)\n",
        ")\n",
        "''')"
      ],
      "metadata": {
        "id": "uF5OAX6fEp8D",
        "outputId": "4b0586d9-69c5-4813-cf36-ef6e062c1e38",
        "colab": {
          "base_uri": "https://localhost:8080/"
        }
      },
      "execution_count": 82,
      "outputs": [
        {
          "output_type": "execute_result",
          "data": {
            "text/plain": [
              "<sqlite3.Cursor at 0x79ffd8181240>"
            ]
          },
          "metadata": {},
          "execution_count": 82
        }
      ]
    },
    {
      "cell_type": "code",
      "source": [
        "cursor.execute('''\n",
        "CREATE TABLE IF NOT EXISTS avaliacoes (\n",
        "    id_avaliacao INTEGER PRIMARY KEY,\n",
        "    id_cliente INTEGER,\n",
        "     nota INTEGER,\n",
        "    comentario TEXT,\n",
        "    FOREIGN KEY (id_cliente) REFERENCES clientes(id_cliente)\n",
        ")\n",
        "''')\n",
        "\n"
      ],
      "metadata": {
        "id": "OxLPCHBhFC-6",
        "outputId": "a94bc20e-54a8-47a7-fcf8-97557f2f52a1",
        "colab": {
          "base_uri": "https://localhost:8080/"
        }
      },
      "execution_count": 83,
      "outputs": [
        {
          "output_type": "execute_result",
          "data": {
            "text/plain": [
              "<sqlite3.Cursor at 0x79ffd8181240>"
            ]
          },
          "metadata": {},
          "execution_count": 83
        }
      ]
    },
    {
      "cell_type": "code",
      "source": [
        "cursor.execute(\"SELECT name FROM sqlite_master WHERE type='table';\")\n",
        "tabelas = cursor.fetchall()\n",
        "print(tabelas)"
      ],
      "metadata": {
        "id": "XTMfOW11n5RM",
        "outputId": "c649c472-2beb-4892-cc1a-f1a837c9ac79",
        "colab": {
          "base_uri": "https://localhost:8080/"
        }
      },
      "execution_count": 84,
      "outputs": [
        {
          "output_type": "stream",
          "name": "stdout",
          "text": [
            "[('clientes',), ('navegacao',), ('reservas',), ('avaliacoes',)]\n"
          ]
        }
      ]
    },
    {
      "cell_type": "code",
      "source": [
        "def inserir_dados_csv(arquivo, tabela, colunas, num_colunas):\n",
        "       with open(arquivo, newline='') as file:\n",
        "        reader = csv.reader(file)\n",
        "        next(reader)  # Pular o cabeçalho\n",
        "        dados = [tuple(row) for row in reader]\n",
        "\n",
        "        placeholder = ', '.join(['?'] * num_colunas)\n",
        "        query = f\"INSERT OR IGNORE INTO {tabela} ({colunas}) VALUES ({placeholder})\"\n",
        "        cursor.executemany(query, dados)\n",
        ""
      ],
      "metadata": {
        "id": "jnVYLLx3K86E"
      },
      "execution_count": 85,
      "outputs": []
    },
    {
      "cell_type": "code",
      "source": [
        "inserir_dados_csv('clientes.csv', 'clientes', 'id_cliente, nome, email, idade, genero', 5)\n",
        "inserir_dados_csv('navegacao.csv', 'navegacao', 'id_navegacao, id_cliente, pagina, tempo_gasto, data_acesso', 5)\n",
        "inserir_dados_csv('reservas.csv', 'reservas', 'id_reserva, id_cliente, data_checkin, valor_total', 4)\n",
        "inserir_dados_csv('avaliacoes.csv', 'avaliacoes', 'id_avaliacao, id_cliente, nota, comentario', 4)\n",
        "\n",
        "\n",
        "\n"
      ],
      "metadata": {
        "id": "LUoG418POYaU",
        "outputId": "19477f5a-bab2-433b-d028-2f8b7a44cc8f",
        "colab": {
          "base_uri": "https://localhost:8080/",
          "height": 315
        }
      },
      "execution_count": 86,
      "outputs": [
        {
          "output_type": "error",
          "ename": "OperationalError",
          "evalue": "database is locked",
          "traceback": [
            "\u001b[0;31m---------------------------------------------------------------------------\u001b[0m",
            "\u001b[0;31mOperationalError\u001b[0m                          Traceback (most recent call last)",
            "\u001b[0;32m<ipython-input-86-5203c658ca12>\u001b[0m in \u001b[0;36m<cell line: 1>\u001b[0;34m()\u001b[0m\n\u001b[0;32m----> 1\u001b[0;31m \u001b[0minserir_dados_csv\u001b[0m\u001b[0;34m(\u001b[0m\u001b[0;34m'clientes.csv'\u001b[0m\u001b[0;34m,\u001b[0m \u001b[0;34m'clientes'\u001b[0m\u001b[0;34m,\u001b[0m \u001b[0;34m'id_cliente, nome, email, idade, genero'\u001b[0m\u001b[0;34m,\u001b[0m \u001b[0;36m5\u001b[0m\u001b[0;34m)\u001b[0m\u001b[0;34m\u001b[0m\u001b[0;34m\u001b[0m\u001b[0m\n\u001b[0m\u001b[1;32m      2\u001b[0m \u001b[0minserir_dados_csv\u001b[0m\u001b[0;34m(\u001b[0m\u001b[0;34m'navegacao.csv'\u001b[0m\u001b[0;34m,\u001b[0m \u001b[0;34m'navegacao'\u001b[0m\u001b[0;34m,\u001b[0m \u001b[0;34m'id_navegacao, id_cliente, pagina, tempo_gasto, data_acesso'\u001b[0m\u001b[0;34m,\u001b[0m \u001b[0;36m5\u001b[0m\u001b[0;34m)\u001b[0m\u001b[0;34m\u001b[0m\u001b[0;34m\u001b[0m\u001b[0m\n\u001b[1;32m      3\u001b[0m \u001b[0minserir_dados_csv\u001b[0m\u001b[0;34m(\u001b[0m\u001b[0;34m'reservas.csv'\u001b[0m\u001b[0;34m,\u001b[0m \u001b[0;34m'reservas'\u001b[0m\u001b[0;34m,\u001b[0m \u001b[0;34m'id_reserva, id_cliente, data_checkin, valor_total'\u001b[0m\u001b[0;34m,\u001b[0m \u001b[0;36m4\u001b[0m\u001b[0;34m)\u001b[0m\u001b[0;34m\u001b[0m\u001b[0;34m\u001b[0m\u001b[0m\n\u001b[1;32m      4\u001b[0m \u001b[0minserir_dados_csv\u001b[0m\u001b[0;34m(\u001b[0m\u001b[0;34m'avaliacoes.csv'\u001b[0m\u001b[0;34m,\u001b[0m \u001b[0;34m'avaliacoes'\u001b[0m\u001b[0;34m,\u001b[0m \u001b[0;34m'id_avaliacao, id_cliente, nota, comentario'\u001b[0m\u001b[0;34m,\u001b[0m \u001b[0;36m4\u001b[0m\u001b[0;34m)\u001b[0m\u001b[0;34m\u001b[0m\u001b[0;34m\u001b[0m\u001b[0m\n\u001b[1;32m      5\u001b[0m \u001b[0;34m\u001b[0m\u001b[0m\n",
            "\u001b[0;32m<ipython-input-85-f35a665afbd4>\u001b[0m in \u001b[0;36minserir_dados_csv\u001b[0;34m(arquivo, tabela, colunas, num_colunas)\u001b[0m\n\u001b[1;32m      7\u001b[0m         \u001b[0mplaceholder\u001b[0m \u001b[0;34m=\u001b[0m \u001b[0;34m', '\u001b[0m\u001b[0;34m.\u001b[0m\u001b[0mjoin\u001b[0m\u001b[0;34m(\u001b[0m\u001b[0;34m[\u001b[0m\u001b[0;34m'?'\u001b[0m\u001b[0;34m]\u001b[0m \u001b[0;34m*\u001b[0m \u001b[0mnum_colunas\u001b[0m\u001b[0;34m)\u001b[0m\u001b[0;34m\u001b[0m\u001b[0;34m\u001b[0m\u001b[0m\n\u001b[1;32m      8\u001b[0m         \u001b[0mquery\u001b[0m \u001b[0;34m=\u001b[0m \u001b[0;34mf\"INSERT OR IGNORE INTO {tabela} ({colunas}) VALUES ({placeholder})\"\u001b[0m\u001b[0;34m\u001b[0m\u001b[0;34m\u001b[0m\u001b[0m\n\u001b[0;32m----> 9\u001b[0;31m         \u001b[0mcursor\u001b[0m\u001b[0;34m.\u001b[0m\u001b[0mexecutemany\u001b[0m\u001b[0;34m(\u001b[0m\u001b[0mquery\u001b[0m\u001b[0;34m,\u001b[0m \u001b[0mdados\u001b[0m\u001b[0;34m)\u001b[0m\u001b[0;34m\u001b[0m\u001b[0;34m\u001b[0m\u001b[0m\n\u001b[0m\u001b[1;32m     10\u001b[0m \u001b[0;34m\u001b[0m\u001b[0m\n",
            "\u001b[0;31mOperationalError\u001b[0m: database is locked"
          ]
        }
      ]
    },
    {
      "cell_type": "markdown",
      "source": [
        "Se quiser excluir bases do baanco de dados use o comando abaixo:"
      ],
      "metadata": {
        "id": "oBKh1CUgtJBf"
      }
    },
    {
      "cell_type": "code",
      "source": [],
      "metadata": {
        "id": "h-flZL9MV2eq",
        "outputId": "fcca45ab-93fb-4e84-967e-facecf985d92",
        "colab": {
          "base_uri": "https://localhost:8080/",
          "height": 158
        }
      },
      "execution_count": 87,
      "outputs": [
        {
          "output_type": "error",
          "ename": "NameError",
          "evalue": "name 'conn' is not defined",
          "traceback": [
            "\u001b[0;31m---------------------------------------------------------------------------\u001b[0m",
            "\u001b[0;31mNameError\u001b[0m                                 Traceback (most recent call last)",
            "\u001b[0;32m<ipython-input-87-b337fac98699>\u001b[0m in \u001b[0;36m<cell line: 1>\u001b[0;34m()\u001b[0m\n\u001b[0;32m----> 1\u001b[0;31m \u001b[0mconn\u001b[0m\u001b[0;34m.\u001b[0m\u001b[0mcommit\u001b[0m\u001b[0;34m(\u001b[0m\u001b[0;34m)\u001b[0m\u001b[0;34m\u001b[0m\u001b[0;34m\u001b[0m\u001b[0m\n\u001b[0m\u001b[1;32m      2\u001b[0m \u001b[0mconn\u001b[0m\u001b[0;34m.\u001b[0m\u001b[0mclose\u001b[0m\u001b[0;34m(\u001b[0m\u001b[0;34m)\u001b[0m\u001b[0;34m\u001b[0m\u001b[0;34m\u001b[0m\u001b[0m\n",
            "\u001b[0;31mNameError\u001b[0m: name 'conn' is not defined"
          ]
        }
      ]
    },
    {
      "cell_type": "code",
      "source": [
        "cursor.execute('DROP TABLE IF EXISTS reservas')"
      ],
      "metadata": {
        "id": "9oytcAl7ng4i",
        "outputId": "0fa2437d-44cd-4a48-d280-bf24a77a6ebd",
        "colab": {
          "base_uri": "https://localhost:8080/"
        }
      },
      "execution_count": 71,
      "outputs": [
        {
          "output_type": "execute_result",
          "data": {
            "text/plain": [
              "<sqlite3.Cursor at 0x79ffd812f140>"
            ]
          },
          "metadata": {},
          "execution_count": 71
        }
      ]
    }
  ]
}